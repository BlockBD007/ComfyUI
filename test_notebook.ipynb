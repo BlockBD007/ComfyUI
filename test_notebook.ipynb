{
 "cells": [
  {
   "cell_type": "code",
   "execution_count": 5,
   "metadata": {},
   "outputs": [],
   "source": [
    "names = [{'content': 'SUPIR/SUPIR-v0F_fp16.safetensors', 'image': None}, {'content': 'SUPIR/SUPIR-v0Q_fp16.safetensors', 'image': None}, {'content': 'TripoSR.ckpt', 'image': None}, {'content': 'sdXL/9527DetailRealistic_v40Lighting4S.safetensors', 'image': 'checkpoints/sdXL/9527DetailRealistic_v40Lighting4S.png'}, {'content': 'sdXL/albedobaseXL_v21.safetensors', 'image': 'checkpoints/sdXL/albedobaseXL_v21.png'}, {'content': 'sdXL/dreamshaperXL_v21TurboDPMSDE.safetensors', 'image': 'checkpoints/sdXL/dreamshaperXL_v21TurboDPMSDE.png'}, {'content': 'sdXL/enjoyXLSuperRealistic_v20.safetensors', 'image': 'checkpoints/sdXL/enjoyXLSuperRealistic_v20.png'}, {'content': 'sdXL/juggernautXL_v9Rdphoto2Lightning.safetensors', 'image': None}, {'content': 'sdXL/mklanRealistic_v220realistic.safetensors', 'image': 'checkpoints/sdXL/mklanRealistic_v220realistic.png'}, {'content': 'sdXL/platypusPhotorealism_v3Lightning.safetensors', 'image': 'checkpoints/sdXL/platypusPhotorealism_v3Lightning.jpeg'}, {'content': 'sdXL/realvisxlV40_v40LightningBakedvae.safetensors', 'image': 'checkpoints/sdXL/realvisxlV40_v40LightningBakedvae.jpeg'}, {'content': 'sdXL/sdXL_v10.safetensors', 'image': None}, {'content': 'sdXL/sdXL_v10Refiner.safetensors', 'image': None}, {'content': 'sdXL/sdxl10ArienmixxlAsian_v45Pruned.safetensors', 'image': 'checkpoints/sdXL/sdxl10ArienmixxlAsian_v45Pruned.png'}, {'content': 'sdXL/二次元/MR_3DQ/MR 3DQ _SDXL V0.2.safetensors', 'image': 'checkpoints/sdXL/二次元/MR_3DQ/MR 3DQ _SDXL V0.2.png'}, {'content': 'sd_15/AWPortraitWW_Lite_1.0.safetensors', 'image': 'checkpoints/sd_15/AWPortraitWW_Lite_1.0.jpg'}, {'content': 'sd_15/Chilloutmix-Ni-pruned-fp16-fix.safetensors', 'image': 'checkpoints/sd_15/Chilloutmix-Ni-pruned-fp16-fix.jpeg'}, {'content': 'sd_15/XXMixUnreal_v1.0.safetensors', 'image': 'checkpoints/sd_15/XXMixUnreal_v1.0.png'}, {'content': 'sd_15/chilloutmix-Ni.safetensors', 'image': 'checkpoints/sd_15/chilloutmix-Ni.png'}, {'content': 'sd_15/majicmixRealistic_v7-inpainting.safetensors', 'image': None}, {'content': 'sd_15/majicmixRealistic_v7.safetensors', 'image': 'checkpoints/sd_15/majicmixRealistic_v7.png'}, {'content': 'sd_15/realisticVisionV60B1_v60B1VAE.safetensors', 'image': 'checkpoints/sd_15/realisticVisionV60B1_v60B1VAE.jpeg'}, {'content': 'sd_15/v1-5-pruned-emaonly.safetensors', 'image': None}, {'content': 'sd_15/v1-5-pruned.safetensors', 'image': None}, {'content': 'sd_15_TextEffect/Realistic_Vision_V4.0_fp16-no-ema.safetensors', 'image': None}, {'content': 'sd_15_TextEffect/Realistic_Vision_V5.1_fp16-no-ema.safetensors', 'image': None}, {'content': 'sd_15_TextEffect/blazingDrive_V08c.safetensors', 'image': 'checkpoints/sd_15_TextEffect/blazingDrive_V08c.jpeg'}, {'content': 'sd_15_TextEffect/dreamlike-anime-1.0.safetensors', 'image': 'checkpoints/sd_15_TextEffect/dreamlike-anime-1.0.jpg'}, {'content': 'sd_15_TextEffect/majicmixRealistic_betterV2V25.safetensors', 'image': None}, {'content': 'sd_15_TextEffect/majicmixRealistic_v6.safetensors', 'image': None}, {'content': 'sd_15_TextEffect/revAnimated_v122EOL.safetensors', 'image': None}]"
   ]
  },
  {
   "cell_type": "code",
   "execution_count": 7,
   "metadata": {},
   "outputs": [
    {
     "name": "stdout",
     "output_type": "stream",
     "text": [
      "[{'content': 'sd_15/AWPortraitWW_Lite_1.0.safetensors', 'image': 'checkpoints/sd_15/AWPortraitWW_Lite_1.0.jpg'}, {'content': 'sd_15/Chilloutmix-Ni-pruned-fp16-fix.safetensors', 'image': 'checkpoints/sd_15/Chilloutmix-Ni-pruned-fp16-fix.jpeg'}, {'content': 'sd_15/chilloutmix-Ni.safetensors', 'image': 'checkpoints/sd_15/chilloutmix-Ni.png'}, {'content': 'sd_15/majicmixRealistic_v7-inpainting.safetensors', 'image': None}, {'content': 'sd_15/majicmixRealistic_v7.safetensors', 'image': 'checkpoints/sd_15/majicmixRealistic_v7.png'}, {'content': 'sd_15/realisticVisionV60B1_v60B1VAE.safetensors', 'image': 'checkpoints/sd_15/realisticVisionV60B1_v60B1VAE.jpeg'}, {'content': 'sd_15/v1-5-pruned-emaonly.safetensors', 'image': None}, {'content': 'sd_15/v1-5-pruned.safetensors', 'image': None}, {'content': 'sd_15/XXMixUnreal_v1.0.safetensors', 'image': 'checkpoints/sd_15/XXMixUnreal_v1.0.png'}, {'content': 'sd_15_TextEffect/blazingDrive_V08c.safetensors', 'image': 'checkpoints/sd_15_TextEffect/blazingDrive_V08c.jpeg'}, {'content': 'sd_15_TextEffect/dreamlike-anime-1.0.safetensors', 'image': 'checkpoints/sd_15_TextEffect/dreamlike-anime-1.0.jpg'}, {'content': 'sd_15_TextEffect/majicmixRealistic_betterV2V25.safetensors', 'image': None}, {'content': 'sd_15_TextEffect/majicmixRealistic_v6.safetensors', 'image': None}, {'content': 'sd_15_TextEffect/Realistic_Vision_V4.0_fp16-no-ema.safetensors', 'image': None}, {'content': 'sd_15_TextEffect/Realistic_Vision_V5.1_fp16-no-ema.safetensors', 'image': None}, {'content': 'sd_15_TextEffect/revAnimated_v122EOL.safetensors', 'image': None}, {'content': 'sdXL/9527DetailRealistic_v40Lighting4S.safetensors', 'image': 'checkpoints/sdXL/9527DetailRealistic_v40Lighting4S.png'}, {'content': 'sdXL/albedobaseXL_v21.safetensors', 'image': 'checkpoints/sdXL/albedobaseXL_v21.png'}, {'content': 'sdXL/dreamshaperXL_v21TurboDPMSDE.safetensors', 'image': 'checkpoints/sdXL/dreamshaperXL_v21TurboDPMSDE.png'}, {'content': 'sdXL/enjoyXLSuperRealistic_v20.safetensors', 'image': 'checkpoints/sdXL/enjoyXLSuperRealistic_v20.png'}, {'content': 'sdXL/juggernautXL_v9Rdphoto2Lightning.safetensors', 'image': None}, {'content': 'sdXL/mklanRealistic_v220realistic.safetensors', 'image': 'checkpoints/sdXL/mklanRealistic_v220realistic.png'}, {'content': 'sdXL/platypusPhotorealism_v3Lightning.safetensors', 'image': 'checkpoints/sdXL/platypusPhotorealism_v3Lightning.jpeg'}, {'content': 'sdXL/realvisxlV40_v40LightningBakedvae.safetensors', 'image': 'checkpoints/sdXL/realvisxlV40_v40LightningBakedvae.jpeg'}, {'content': 'sdXL/sdxl10ArienmixxlAsian_v45Pruned.safetensors', 'image': 'checkpoints/sdXL/sdxl10ArienmixxlAsian_v45Pruned.png'}, {'content': 'sdXL/sdXL_v10.safetensors', 'image': None}, {'content': 'sdXL/sdXL_v10Refiner.safetensors', 'image': None}, {'content': 'sdXL/二次元/MR_3DQ/MR 3DQ _SDXL V0.2.safetensors', 'image': 'checkpoints/sdXL/二次元/MR_3DQ/MR 3DQ _SDXL V0.2.png'}, {'content': 'SUPIR/SUPIR-v0F_fp16.safetensors', 'image': None}, {'content': 'SUPIR/SUPIR-v0Q_fp16.safetensors', 'image': None}, {'content': 'TripoSR.ckpt', 'image': None}]\n"
     ]
    }
   ],
   "source": [
    "def get_name(ele:dict):\n",
    "    # print(ele)\n",
    "    name = ele[\"content\"].replace(\"/\", \"__\").lower()\n",
    "    \n",
    "    return name\n",
    "\n",
    "names.sort(key=get_name)\n",
    "print(names)"
   ]
  },
  {
   "cell_type": "code",
   "execution_count": null,
   "metadata": {},
   "outputs": [],
   "source": []
  }
 ],
 "metadata": {
  "kernelspec": {
   "display_name": "fooocus",
   "language": "python",
   "name": "python3"
  },
  "language_info": {
   "codemirror_mode": {
    "name": "ipython",
    "version": 3
   },
   "file_extension": ".py",
   "mimetype": "text/x-python",
   "name": "python",
   "nbconvert_exporter": "python",
   "pygments_lexer": "ipython3",
   "version": "3.10.4"
  }
 },
 "nbformat": 4,
 "nbformat_minor": 2
}
